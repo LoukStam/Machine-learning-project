import numpy as np
import pandas as pd
import matplotlib.pyplot as plt


df_train = pd.read_csv('Wyoming Census data 2016.csv')
df_train_target=pd.read_csv('Wyoming total votes 2016.csv')
df_test = pd.read_csv('Wyoming Census data 2020.csv')
df_test_target=pd.read_csv('Wyoming total votes 2020.csv')
#df_test.drop(0,axis=0,inplace=True)
print(df_train_target)
# df_train=df_train
# df_test=df_test
print(df_train)


#useful functions
def swap_rows(df, row1, row2):
    df.iloc[row1], df.iloc[row2] =  df.iloc[row2].copy(), df.iloc[row1].copy()
    return df


df_train.index=['Percentage'] #nice



#Drop 1st column from training and test sets
df_train=df_train.drop(df_train.columns[0],axis=1)
df_train


# df_train = df_train.iloc[1:].reset_index(drop=True)
# df_test = df_test.iloc[1:].reset_index(drop=True)
#print(df_train,'\n',df_test)


votes_train=df_train_target['Votes'] #target
votes_test=df_train_target['Votes']
votes_train=np.array(votes_train) #make into numpy array
votes_test=np.array(votes_test)
type(votes_test)


df_train


#Make sure every number is a float and not a string
# df_train['Percentage']=df_train['Percentage'].astype(float)
# #df_test['Percentage of total population (%)']=df_test['Percentage of total population (%)'].astype(float)



midpoints=[2.5,7,12,17,22,27,32,37,42,47,52,57,62,67,72,77,82,90]
df_train.loc[len(df_train)]=midpoints


df_train


df_train=df_train.loc[[1,'Percentage']] #nice


df_train


df_train.index=['Midpoints','Percentage']
df_train


#####################COOL SO FAR###########################





#Find mean age
ages=df_train['Age groups']
# ages=np.array(ages)
# type(ages)

df_train['Midpoint']=midpoints
df_test['Midpoint']=midpoints
df_train=df_train.reindex(columns=['Age groups', 'Midpoint','Percentage of total population (%)'])
dfdf_test.reindex(columns=['Age groups', 'Midpoint','Percentage of total population (%)'])


df_train.drop(['Age groups'],axis=1,inplace=True)


average_age_train=(df_train['Midpoint'] * df_train['Percentage of total population (%)']).sum()/df_train['Percentage of total population (%)'].sum()
average_age_test=(df_test['Midpoint'] * df_test['Percentage of total population (%)']).sum()/df_test['Percentage of total population (%)'].sum()

print(average_age_train,average_age_test)


##OPTIONAL, IF WE WANT TO KEEP ONLY 18+ ## (DOESNT CHANGE RESULTS)
# df_train.drop([0,1,2],axis=0,inplace=True)
# print(df_train)
# df_test.drop([0,1,2],axis=0,inplace=True)
# print(df_test)


print(df_train_target)


## Linear Regression ##
#1. Load Data
X=df_train.values[:,:] #Matrix of [midpoint age,percentage]
y=df_train_target.values[:,1] #Array of votes of 3 choices: 1. Republican, 2. Democrat, 3. Other
print(X,y)


#2. Model
from sklearn.linear_model import LinearRegression
model=LinearRegression()
model.fit(X,y)



