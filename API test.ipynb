{
 "cells": [
  {
   "cell_type": "code",
   "execution_count": 4,
   "id": "2d220376-4f50-42fb-b120-e98931586a12",
   "metadata": {},
   "outputs": [],
   "source": [
    "import requests"
   ]
  },
  {
   "cell_type": "code",
   "execution_count": 16,
   "id": "6b912791-f294-4d63-bd6b-be5d4e0a85ff",
   "metadata": {},
   "outputs": [
    {
     "name": "stdout",
     "output_type": "stream",
     "text": [
      "400\n"
     ]
    }
   ],
   "source": [
    "response = requests.get(\"https://api.census.gov/data/2023/acs/acs1/profile?get=group(DP05)&ucgid=0100000US\")\n",
    "print(response.status_code)"
   ]
  },
  {
   "cell_type": "code",
   "execution_count": 24,
   "id": "6d57b1cf-d834-488b-a898-3ffe7070b321",
   "metadata": {},
   "outputs": [
    {
     "name": "stdout",
     "output_type": "stream",
     "text": [
      "400\n"
     ]
    }
   ],
   "source": [
    "response = requests.get(\"https://api.census.gov/data/2023/acs/acs1/profile?get=B01001&ucgid=0100000US\")\n",
    "print(response.status_code)"
   ]
  },
  {
   "cell_type": "code",
   "execution_count": 42,
   "id": "aeb0adbb-aec2-48f5-8a81-ed89fabe1efc",
   "metadata": {},
   "outputs": [
    {
     "name": "stdout",
     "output_type": "stream",
     "text": [
      "200\n",
      "Response JSON: [[\"DP05_0001E\",\"us\"],\n",
      "[\"334914896\",\"1\"]]\n"
     ]
    }
   ],
   "source": [
    "api_key = \"ca57b6ed74fccf8329e57d4b74e9a6ea694fa72a\"\n",
    "url = \"https://api.census.gov/data/2023/acs/acs1/profile\"\n",
    "params = {\n",
    "    \"get\": \"DP05_0001E\",  # Variable for Total Population by Age and Sex\n",
    "    \"for\": \"us\",      # Geographic scope: United States\n",
    "    \"key\": api_key    # API key (if applicable)\n",
    "}\n",
    "\n",
    "response = requests.get(url, params=params)\n",
    "print(response.status_code)\n",
    "if response.status_code == 200:\n",
    "    print(\"Response JSON:\", response.text)\n",
    "else:\n",
    "    print(\"Error:\", response.status_code)\n",
    "    print(\"Response:\", response.text)"
   ]
  },
  {
   "cell_type": "code",
   "execution_count": 46,
   "id": "18a3879c-380f-425e-9cf2-0a56746b3a7d",
   "metadata": {},
   "outputs": [
    {
     "name": "stdout",
     "output_type": "stream",
     "text": [
      "{'groups': [{'name': 'DP04', 'description': 'Selected Housing Characteristics', 'variables': 'http://api.census.gov/data/2023/acs/acs1/profile/groups/DP04.json'}, {'name': 'DP05', 'description': 'ACS Demographic and Housing Estimates', 'variables': 'http://api.census.gov/data/2023/acs/acs1/profile/groups/DP05.json'}, {'name': 'DP02PR', 'description': 'Selected Social Characteristics in Puerto Rico', 'variables': 'http://api.census.gov/data/2023/acs/acs1/profile/groups/DP02PR.json'}, {'name': 'DP02', 'description': 'Selected Social Characteristics in the United States', 'variables': 'http://api.census.gov/data/2023/acs/acs1/profile/groups/DP02.json'}, {'name': 'DP03', 'description': 'Selected Economic Characteristics', 'variables': 'http://api.census.gov/data/2023/acs/acs1/profile/groups/DP03.json'}]}\n"
     ]
    }
   ],
   "source": [
    "url = \"https://api.census.gov/data/2023/acs/acs1/profile/groups\"\n",
    "response = requests.get(url)\n",
    "\n",
    "if response.status_code == 200:\n",
    "    groups = response.json()\n",
    "    print(groups)  # Print the structure of the response for debugging\n",
    "else:\n",
    "    print(\"Error:\", response.status_code)"
   ]
  },
  {
   "cell_type": "code",
   "execution_count": 107,
   "id": "b17bfa45-aa0b-4114-8d8c-08acdafc0987",
   "metadata": {},
   "outputs": [
    {
     "name": "stdout",
     "output_type": "stream",
     "text": [
      "200\n",
      "Response JSON: [[\"NAME\",\"DP04_0134E\",\"state\"],\n",
      "[\"Alabama\",\"982\",\"01\"],\n",
      "[\"Alaska\",\"1373\",\"02\"],\n",
      "[\"Arizona\",\"1608\",\"04\"],\n",
      "[\"Arkansas\",\"933\",\"05\"],\n",
      "[\"California\",\"1992\",\"06\"],\n",
      "[\"Colorado\",\"1771\",\"08\"],\n",
      "[\"Connecticut\",\"1463\",\"09\"],\n",
      "[\"Georgia\",\"1400\",\"13\"],\n",
      "[\"Delaware\",\"1358\",\"10\"],\n",
      "[\"District of Columbia\",\"1904\",\"11\"],\n",
      "[\"Florida\",\"1719\",\"12\"],\n",
      "[\"Hawaii\",\"1940\",\"15\"],\n",
      "[\"Idaho\",\"1256\",\"16\"],\n",
      "[\"Illinois\",\"1238\",\"17\"],\n",
      "[\"Indiana\",\"1044\",\"18\"],\n",
      "[\"Iowa\",\"949\",\"19\"],\n",
      "[\"Kansas\",\"1036\",\"20\"],\n",
      "[\"Kentucky\",\"929\",\"21\"],\n",
      "[\"Louisiana\",\"1020\",\"22\"],\n",
      "[\"Maine\",\"1189\",\"23\"],\n",
      "[\"Maryland\",\"1651\",\"24\"],\n",
      "[\"Massachusetts\",\"1757\",\"25\"],\n",
      "[\"Michigan\",\"1101\",\"26\"],\n",
      "[\"Minnesota\",\"1264\",\"27\"],\n",
      "[\"Mississippi\",\"898\",\"28\"],\n",
      "[\"Missouri\",\"1019\",\"29\"],\n",
      "[\"Montana\",\"1083\",\"30\"],\n",
      "[\"Nebraska\",\"1042\",\"31\"],\n",
      "[\"Nevada\",\"1622\",\"32\"],\n",
      "[\"New Hampshire\",\"1517\",\"33\"],\n",
      "[\"New Jersey\",\"1667\",\"34\"],\n",
      "[\"New Mexico\",\"1084\",\"35\"],\n",
      "[\"New York\",\"1561\",\"36\"],\n",
      "[\"North Carolina\",\"1245\",\"37\"],\n",
      "[\"North Dakota\",\"916\",\"38\"],\n",
      "[\"Ohio\",\"1014\",\"39\"],\n",
      "[\"Oklahoma\",\"1020\",\"40\"],\n",
      "[\"Oregon\",\"1481\",\"41\"],\n",
      "[\"Pennsylvania\",\"1197\",\"42\"],\n",
      "[\"Rhode Island\",\"1365\",\"44\"],\n",
      "[\"South Carolina\",\"1170\",\"45\"],\n",
      "[\"South Dakota\",\"921\",\"46\"],\n",
      "[\"Tennessee\",\"1214\",\"47\"],\n",
      "[\"Texas\",\"1413\",\"48\"],\n",
      "[\"Utah\",\"1551\",\"49\"],\n",
      "[\"Vermont\",\"1202\",\"50\"],\n",
      "[\"Virginia\",\"1567\",\"51\"],\n",
      "[\"Washington\",\"1731\",\"53\"],\n",
      "[\"West Virginia\",\"850\",\"54\"],\n",
      "[\"Wisconsin\",\"1071\",\"55\"],\n",
      "[\"Wyoming\",\"1000\",\"56\"],\n",
      "[\"Puerto Rico\",\"557\",\"72\"]]\n"
     ]
    }
   ],
   "source": [
    "api_key = \"ca57b6ed74fccf8329e57d4b74e9a6ea694fa72a\"\n",
    "url = \"https://api.census.gov/data/2023/acs/acs1/profile\"\n",
    "params = {\n",
    "    \"get\": \"NAME,DP04_0134E\",  # Variable for Total Population by Age and Sex\n",
    "    \"for\": \"state:*\",      # Geographic scope: United States\n",
    "    \"key\": api_key    # API key (if applicable)\n",
    "}\n",
    "\n",
    "response = requests.get(url, params=params)\n",
    "print(response.status_code)\n",
    "if response.status_code == 200:\n",
    "    print(\"Response JSON:\", response.text)\n",
    "else:\n",
    "    print(\"Error:\", response.status_code)\n",
    "    print(\"Response:\", response.text)"
   ]
  },
  {
   "cell_type": "code",
   "execution_count": null,
   "id": "033539ca-e504-49a9-b060-4e16fcf374a2",
   "metadata": {},
   "outputs": [],
   "source": [
    "https://api.census.gov/data/2023/acs/acs1/profile?get=group(DP05)&ucgid=pseudo(0100000US$0400000)"
   ]
  },
  {
   "cell_type": "markdown",
   "id": "128fb814-d31b-4d78-9ffc-af3edd199b0b",
   "metadata": {},
   "source": [
    "200: Everything went okay, and the result has been returned (if any).\n",
    "\n",
    "301: The server is redirecting you to a different endpoint. This can happen when a company switches domain names, or an endpoint name is changed.\n",
    "\n",
    "400: The server thinks you made a bad request. This happens when you send incorrect data or make other client-side errors.\n",
    "\n",
    "401: The server thinks you're not authenticated. Many APIs require login credentials, so this happens when you don't send the right credentials to access an API.\n",
    "\n",
    "403: The resource you're trying to access is forbidden: you don't have the right permissions to see it.\n",
    "\n",
    "404: The resource you tried to access wasn't found on the server.\n",
    "\n",
    "503: The server is not ready to handle the request."
   ]
  },
  {
   "cell_type": "code",
   "execution_count": null,
   "id": "e9603134-450a-4f08-a4ef-4939487941e6",
   "metadata": {},
   "outputs": [],
   "source": []
  }
 ],
 "metadata": {
  "kernelspec": {
   "display_name": "Python 3 (ipykernel)",
   "language": "python",
   "name": "python3"
  },
  "language_info": {
   "codemirror_mode": {
    "name": "ipython",
    "version": 3
   },
   "file_extension": ".py",
   "mimetype": "text/x-python",
   "name": "python",
   "nbconvert_exporter": "python",
   "pygments_lexer": "ipython3",
   "version": "3.11.10"
  }
 },
 "nbformat": 4,
 "nbformat_minor": 5
}
