{
 "cells": [
  {
   "cell_type": "code",
   "execution_count": 496,
   "id": "54acfff3-fe61-4faa-b06d-7ef4462f798e",
   "metadata": {},
   "outputs": [],
   "source": [
    "import numpy as np\n",
    "import pandas as pd\n",
    "import matplotlib.pyplot as plt"
   ]
  },
  {
   "cell_type": "code",
   "execution_count": 498,
   "id": "ec1e7d49-5963-4f7d-b46d-058af87a54e0",
   "metadata": {
    "scrolled": true
   },
   "outputs": [
    {
     "name": "stdout",
     "output_type": "stream",
     "text": [
      "        Party   Votes\n",
      "0  Republican  174419\n",
      "1    Democrat   55973\n",
      "2       Other   25457\n",
      "                           Age groups  Under 5 years  5 to 9 years  \\\n",
      "0  Percentage of total population (%)            6.5           6.9   \n",
      "\n",
      "   10 to 14 years  15 to 19 years  20 to 24 years  25 to 29 years  \\\n",
      "0             6.6             6.3             7.2               7   \n",
      "\n",
      "   30 to 34 years  35 to 39 years  40 to 44 years  45 to 49 years  \\\n",
      "0               7             6.2               6             5.8   \n",
      "\n",
      "   50 to 54 years  55 to 59 years  60 to 64 years  65 to 69 years  \\\n",
      "0             6.8             7.1             6.7             4.8   \n",
      "\n",
      "   70 to 74 years  75 to 79 years  80 to 84 years  85 years and over  \n",
      "0             3.4             2.3             1.7                1.7  \n"
     ]
    }
   ],
   "source": [
    "df_train = pd.read_csv('Wyoming Census data 2016.csv')\n",
    "df_train_target=pd.read_csv('Wyoming total votes 2016.csv')\n",
    "df_test = pd.read_csv('Wyoming Census data 2020.csv')\n",
    "df_test_target=pd.read_csv('Wyoming total votes 2020.csv')\n",
    "#df_test.drop(0,axis=0,inplace=True)\n",
    "print(df_train_target)\n",
    "# df_train=df_train\n",
    "# df_test=df_test\n",
    "print(df_train)"
   ]
  },
  {
   "cell_type": "code",
   "execution_count": 500,
   "id": "c220e3d9-6479-4107-94a3-d7b3d6fa2d2a",
   "metadata": {},
   "outputs": [],
   "source": [
    "#useful functions\n",
    "def swap_rows(df, row1, row2):\n",
    "    df.iloc[row1], df.iloc[row2] =  df.iloc[row2].copy(), df.iloc[row1].copy()\n",
    "    return df"
   ]
  },
  {
   "cell_type": "code",
   "execution_count": 502,
   "id": "8d22db72-5d0b-4562-b669-9e53a9aed500",
   "metadata": {
    "scrolled": true
   },
   "outputs": [],
   "source": [
    "df_train.index=['Percentage'] #nice\n"
   ]
  },
  {
   "cell_type": "code",
   "execution_count": 504,
   "id": "eff2ac7b-3def-4ab3-a004-68c1f9b4bc29",
   "metadata": {},
   "outputs": [
    {
     "data": {
      "text/html": [
       "<div>\n",
       "<style scoped>\n",
       "    .dataframe tbody tr th:only-of-type {\n",
       "        vertical-align: middle;\n",
       "    }\n",
       "\n",
       "    .dataframe tbody tr th {\n",
       "        vertical-align: top;\n",
       "    }\n",
       "\n",
       "    .dataframe thead th {\n",
       "        text-align: right;\n",
       "    }\n",
       "</style>\n",
       "<table border=\"1\" class=\"dataframe\">\n",
       "  <thead>\n",
       "    <tr style=\"text-align: right;\">\n",
       "      <th></th>\n",
       "      <th>Under 5 years</th>\n",
       "      <th>5 to 9 years</th>\n",
       "      <th>10 to 14 years</th>\n",
       "      <th>15 to 19 years</th>\n",
       "      <th>20 to 24 years</th>\n",
       "      <th>25 to 29 years</th>\n",
       "      <th>30 to 34 years</th>\n",
       "      <th>35 to 39 years</th>\n",
       "      <th>40 to 44 years</th>\n",
       "      <th>45 to 49 years</th>\n",
       "      <th>50 to 54 years</th>\n",
       "      <th>55 to 59 years</th>\n",
       "      <th>60 to 64 years</th>\n",
       "      <th>65 to 69 years</th>\n",
       "      <th>70 to 74 years</th>\n",
       "      <th>75 to 79 years</th>\n",
       "      <th>80 to 84 years</th>\n",
       "      <th>85 years and over</th>\n",
       "    </tr>\n",
       "  </thead>\n",
       "  <tbody>\n",
       "    <tr>\n",
       "      <th>Percentage</th>\n",
       "      <td>6.5</td>\n",
       "      <td>6.9</td>\n",
       "      <td>6.6</td>\n",
       "      <td>6.3</td>\n",
       "      <td>7.2</td>\n",
       "      <td>7</td>\n",
       "      <td>7</td>\n",
       "      <td>6.2</td>\n",
       "      <td>6</td>\n",
       "      <td>5.8</td>\n",
       "      <td>6.8</td>\n",
       "      <td>7.1</td>\n",
       "      <td>6.7</td>\n",
       "      <td>4.8</td>\n",
       "      <td>3.4</td>\n",
       "      <td>2.3</td>\n",
       "      <td>1.7</td>\n",
       "      <td>1.7</td>\n",
       "    </tr>\n",
       "  </tbody>\n",
       "</table>\n",
       "</div>"
      ],
      "text/plain": [
       "            Under 5 years  5 to 9 years  10 to 14 years  15 to 19 years  \\\n",
       "Percentage            6.5           6.9             6.6             6.3   \n",
       "\n",
       "            20 to 24 years  25 to 29 years  30 to 34 years  35 to 39 years  \\\n",
       "Percentage             7.2               7               7             6.2   \n",
       "\n",
       "            40 to 44 years  45 to 49 years  50 to 54 years  55 to 59 years  \\\n",
       "Percentage               6             5.8             6.8             7.1   \n",
       "\n",
       "            60 to 64 years  65 to 69 years  70 to 74 years  75 to 79 years  \\\n",
       "Percentage             6.7             4.8             3.4             2.3   \n",
       "\n",
       "            80 to 84 years  85 years and over  \n",
       "Percentage             1.7                1.7  "
      ]
     },
     "execution_count": 504,
     "metadata": {},
     "output_type": "execute_result"
    }
   ],
   "source": [
    "#Drop 1st column from training and test sets\n",
    "df_train=df_train.drop(df_train.columns[0],axis=1)\n",
    "df_train"
   ]
  },
  {
   "cell_type": "code",
   "execution_count": 506,
   "id": "5b50e52b-c4b0-461e-a67d-53829f5e5fb5",
   "metadata": {},
   "outputs": [],
   "source": [
    "# df_train = df_train.iloc[1:].reset_index(drop=True)\n",
    "# df_test = df_test.iloc[1:].reset_index(drop=True)\n",
    "#print(df_train,'\\n',df_test)"
   ]
  },
  {
   "cell_type": "code",
   "execution_count": 508,
   "id": "da16f4a4-4a04-4e2f-be5b-8bb9a68b5d9b",
   "metadata": {
    "scrolled": true
   },
   "outputs": [
    {
     "data": {
      "text/plain": [
       "numpy.ndarray"
      ]
     },
     "execution_count": 508,
     "metadata": {},
     "output_type": "execute_result"
    }
   ],
   "source": [
    "votes_train=df_train_target['Votes'] #target\n",
    "votes_test=df_train_target['Votes']\n",
    "votes_train=np.array(votes_train) #make into numpy array\n",
    "votes_test=np.array(votes_test)\n",
    "type(votes_test)"
   ]
  },
  {
   "cell_type": "code",
   "execution_count": 510,
   "id": "52b93937-c565-4ab2-9537-8a76aab0e5c3",
   "metadata": {},
   "outputs": [
    {
     "data": {
      "text/html": [
       "<div>\n",
       "<style scoped>\n",
       "    .dataframe tbody tr th:only-of-type {\n",
       "        vertical-align: middle;\n",
       "    }\n",
       "\n",
       "    .dataframe tbody tr th {\n",
       "        vertical-align: top;\n",
       "    }\n",
       "\n",
       "    .dataframe thead th {\n",
       "        text-align: right;\n",
       "    }\n",
       "</style>\n",
       "<table border=\"1\" class=\"dataframe\">\n",
       "  <thead>\n",
       "    <tr style=\"text-align: right;\">\n",
       "      <th></th>\n",
       "      <th>Under 5 years</th>\n",
       "      <th>5 to 9 years</th>\n",
       "      <th>10 to 14 years</th>\n",
       "      <th>15 to 19 years</th>\n",
       "      <th>20 to 24 years</th>\n",
       "      <th>25 to 29 years</th>\n",
       "      <th>30 to 34 years</th>\n",
       "      <th>35 to 39 years</th>\n",
       "      <th>40 to 44 years</th>\n",
       "      <th>45 to 49 years</th>\n",
       "      <th>50 to 54 years</th>\n",
       "      <th>55 to 59 years</th>\n",
       "      <th>60 to 64 years</th>\n",
       "      <th>65 to 69 years</th>\n",
       "      <th>70 to 74 years</th>\n",
       "      <th>75 to 79 years</th>\n",
       "      <th>80 to 84 years</th>\n",
       "      <th>85 years and over</th>\n",
       "    </tr>\n",
       "  </thead>\n",
       "  <tbody>\n",
       "    <tr>\n",
       "      <th>Percentage</th>\n",
       "      <td>6.5</td>\n",
       "      <td>6.9</td>\n",
       "      <td>6.6</td>\n",
       "      <td>6.3</td>\n",
       "      <td>7.2</td>\n",
       "      <td>7</td>\n",
       "      <td>7</td>\n",
       "      <td>6.2</td>\n",
       "      <td>6</td>\n",
       "      <td>5.8</td>\n",
       "      <td>6.8</td>\n",
       "      <td>7.1</td>\n",
       "      <td>6.7</td>\n",
       "      <td>4.8</td>\n",
       "      <td>3.4</td>\n",
       "      <td>2.3</td>\n",
       "      <td>1.7</td>\n",
       "      <td>1.7</td>\n",
       "    </tr>\n",
       "  </tbody>\n",
       "</table>\n",
       "</div>"
      ],
      "text/plain": [
       "            Under 5 years  5 to 9 years  10 to 14 years  15 to 19 years  \\\n",
       "Percentage            6.5           6.9             6.6             6.3   \n",
       "\n",
       "            20 to 24 years  25 to 29 years  30 to 34 years  35 to 39 years  \\\n",
       "Percentage             7.2               7               7             6.2   \n",
       "\n",
       "            40 to 44 years  45 to 49 years  50 to 54 years  55 to 59 years  \\\n",
       "Percentage               6             5.8             6.8             7.1   \n",
       "\n",
       "            60 to 64 years  65 to 69 years  70 to 74 years  75 to 79 years  \\\n",
       "Percentage             6.7             4.8             3.4             2.3   \n",
       "\n",
       "            80 to 84 years  85 years and over  \n",
       "Percentage             1.7                1.7  "
      ]
     },
     "execution_count": 510,
     "metadata": {},
     "output_type": "execute_result"
    }
   ],
   "source": [
    "df_train"
   ]
  },
  {
   "cell_type": "code",
   "execution_count": 512,
   "id": "2785dc3a-2ee2-4ffc-bec4-b43abea26955",
   "metadata": {},
   "outputs": [],
   "source": [
    "#Make sure every number is a float and not a string\n",
    "# df_train['Percentage']=df_train['Percentage'].astype(float)\n",
    "# #df_test['Percentage of total population (%)']=df_test['Percentage of total population (%)'].astype(float)\n"
   ]
  },
  {
   "cell_type": "code",
   "execution_count": 514,
   "id": "31bccf92-f838-4381-aa43-68354e3818ce",
   "metadata": {},
   "outputs": [],
   "source": [
    "midpoints=[2.5,7,12,17,22,27,32,37,42,47,52,57,62,67,72,77,82,90]\n",
    "df_train.loc[len(df_train)]=midpoints"
   ]
  },
  {
   "cell_type": "code",
   "execution_count": 516,
   "id": "f3880d9a-31b1-44d2-a13d-485018641756",
   "metadata": {
    "scrolled": true
   },
   "outputs": [
    {
     "data": {
      "text/html": [
       "<div>\n",
       "<style scoped>\n",
       "    .dataframe tbody tr th:only-of-type {\n",
       "        vertical-align: middle;\n",
       "    }\n",
       "\n",
       "    .dataframe tbody tr th {\n",
       "        vertical-align: top;\n",
       "    }\n",
       "\n",
       "    .dataframe thead th {\n",
       "        text-align: right;\n",
       "    }\n",
       "</style>\n",
       "<table border=\"1\" class=\"dataframe\">\n",
       "  <thead>\n",
       "    <tr style=\"text-align: right;\">\n",
       "      <th></th>\n",
       "      <th>Under 5 years</th>\n",
       "      <th>5 to 9 years</th>\n",
       "      <th>10 to 14 years</th>\n",
       "      <th>15 to 19 years</th>\n",
       "      <th>20 to 24 years</th>\n",
       "      <th>25 to 29 years</th>\n",
       "      <th>30 to 34 years</th>\n",
       "      <th>35 to 39 years</th>\n",
       "      <th>40 to 44 years</th>\n",
       "      <th>45 to 49 years</th>\n",
       "      <th>50 to 54 years</th>\n",
       "      <th>55 to 59 years</th>\n",
       "      <th>60 to 64 years</th>\n",
       "      <th>65 to 69 years</th>\n",
       "      <th>70 to 74 years</th>\n",
       "      <th>75 to 79 years</th>\n",
       "      <th>80 to 84 years</th>\n",
       "      <th>85 years and over</th>\n",
       "    </tr>\n",
       "  </thead>\n",
       "  <tbody>\n",
       "    <tr>\n",
       "      <th>Percentage</th>\n",
       "      <td>6.5</td>\n",
       "      <td>6.9</td>\n",
       "      <td>6.6</td>\n",
       "      <td>6.3</td>\n",
       "      <td>7.2</td>\n",
       "      <td>7.0</td>\n",
       "      <td>7.0</td>\n",
       "      <td>6.2</td>\n",
       "      <td>6.0</td>\n",
       "      <td>5.8</td>\n",
       "      <td>6.8</td>\n",
       "      <td>7.1</td>\n",
       "      <td>6.7</td>\n",
       "      <td>4.8</td>\n",
       "      <td>3.4</td>\n",
       "      <td>2.3</td>\n",
       "      <td>1.7</td>\n",
       "      <td>1.7</td>\n",
       "    </tr>\n",
       "    <tr>\n",
       "      <th>1</th>\n",
       "      <td>2.5</td>\n",
       "      <td>7.0</td>\n",
       "      <td>12.0</td>\n",
       "      <td>17.0</td>\n",
       "      <td>22.0</td>\n",
       "      <td>27.0</td>\n",
       "      <td>32.0</td>\n",
       "      <td>37.0</td>\n",
       "      <td>42.0</td>\n",
       "      <td>47.0</td>\n",
       "      <td>52.0</td>\n",
       "      <td>57.0</td>\n",
       "      <td>62.0</td>\n",
       "      <td>67.0</td>\n",
       "      <td>72.0</td>\n",
       "      <td>77.0</td>\n",
       "      <td>82.0</td>\n",
       "      <td>90.0</td>\n",
       "    </tr>\n",
       "  </tbody>\n",
       "</table>\n",
       "</div>"
      ],
      "text/plain": [
       "            Under 5 years  5 to 9 years  10 to 14 years  15 to 19 years  \\\n",
       "Percentage            6.5           6.9             6.6             6.3   \n",
       "1                     2.5           7.0            12.0            17.0   \n",
       "\n",
       "            20 to 24 years  25 to 29 years  30 to 34 years  35 to 39 years  \\\n",
       "Percentage             7.2             7.0             7.0             6.2   \n",
       "1                     22.0            27.0            32.0            37.0   \n",
       "\n",
       "            40 to 44 years  45 to 49 years  50 to 54 years  55 to 59 years  \\\n",
       "Percentage             6.0             5.8             6.8             7.1   \n",
       "1                     42.0            47.0            52.0            57.0   \n",
       "\n",
       "            60 to 64 years  65 to 69 years  70 to 74 years  75 to 79 years  \\\n",
       "Percentage             6.7             4.8             3.4             2.3   \n",
       "1                     62.0            67.0            72.0            77.0   \n",
       "\n",
       "            80 to 84 years  85 years and over  \n",
       "Percentage             1.7                1.7  \n",
       "1                     82.0               90.0  "
      ]
     },
     "execution_count": 516,
     "metadata": {},
     "output_type": "execute_result"
    }
   ],
   "source": [
    "df_train"
   ]
  },
  {
   "cell_type": "code",
   "execution_count": 526,
   "id": "afa9204a-dcbb-4a74-8fd7-4ecfa5ecc3a0",
   "metadata": {},
   "outputs": [],
   "source": [
    "df_train=df_train.loc[[1,'Percentage']] #nice"
   ]
  },
  {
   "cell_type": "code",
   "execution_count": 528,
   "id": "a1161f0a-7fec-4b92-b557-f91caa753a20",
   "metadata": {},
   "outputs": [
    {
     "data": {
      "text/html": [
       "<div>\n",
       "<style scoped>\n",
       "    .dataframe tbody tr th:only-of-type {\n",
       "        vertical-align: middle;\n",
       "    }\n",
       "\n",
       "    .dataframe tbody tr th {\n",
       "        vertical-align: top;\n",
       "    }\n",
       "\n",
       "    .dataframe thead th {\n",
       "        text-align: right;\n",
       "    }\n",
       "</style>\n",
       "<table border=\"1\" class=\"dataframe\">\n",
       "  <thead>\n",
       "    <tr style=\"text-align: right;\">\n",
       "      <th></th>\n",
       "      <th>Under 5 years</th>\n",
       "      <th>5 to 9 years</th>\n",
       "      <th>10 to 14 years</th>\n",
       "      <th>15 to 19 years</th>\n",
       "      <th>20 to 24 years</th>\n",
       "      <th>25 to 29 years</th>\n",
       "      <th>30 to 34 years</th>\n",
       "      <th>35 to 39 years</th>\n",
       "      <th>40 to 44 years</th>\n",
       "      <th>45 to 49 years</th>\n",
       "      <th>50 to 54 years</th>\n",
       "      <th>55 to 59 years</th>\n",
       "      <th>60 to 64 years</th>\n",
       "      <th>65 to 69 years</th>\n",
       "      <th>70 to 74 years</th>\n",
       "      <th>75 to 79 years</th>\n",
       "      <th>80 to 84 years</th>\n",
       "      <th>85 years and over</th>\n",
       "    </tr>\n",
       "  </thead>\n",
       "  <tbody>\n",
       "    <tr>\n",
       "      <th>1</th>\n",
       "      <td>2.5</td>\n",
       "      <td>7.0</td>\n",
       "      <td>12.0</td>\n",
       "      <td>17.0</td>\n",
       "      <td>22.0</td>\n",
       "      <td>27.0</td>\n",
       "      <td>32.0</td>\n",
       "      <td>37.0</td>\n",
       "      <td>42.0</td>\n",
       "      <td>47.0</td>\n",
       "      <td>52.0</td>\n",
       "      <td>57.0</td>\n",
       "      <td>62.0</td>\n",
       "      <td>67.0</td>\n",
       "      <td>72.0</td>\n",
       "      <td>77.0</td>\n",
       "      <td>82.0</td>\n",
       "      <td>90.0</td>\n",
       "    </tr>\n",
       "    <tr>\n",
       "      <th>Percentage</th>\n",
       "      <td>6.5</td>\n",
       "      <td>6.9</td>\n",
       "      <td>6.6</td>\n",
       "      <td>6.3</td>\n",
       "      <td>7.2</td>\n",
       "      <td>7.0</td>\n",
       "      <td>7.0</td>\n",
       "      <td>6.2</td>\n",
       "      <td>6.0</td>\n",
       "      <td>5.8</td>\n",
       "      <td>6.8</td>\n",
       "      <td>7.1</td>\n",
       "      <td>6.7</td>\n",
       "      <td>4.8</td>\n",
       "      <td>3.4</td>\n",
       "      <td>2.3</td>\n",
       "      <td>1.7</td>\n",
       "      <td>1.7</td>\n",
       "    </tr>\n",
       "  </tbody>\n",
       "</table>\n",
       "</div>"
      ],
      "text/plain": [
       "            Under 5 years  5 to 9 years  10 to 14 years  15 to 19 years  \\\n",
       "1                     2.5           7.0            12.0            17.0   \n",
       "Percentage            6.5           6.9             6.6             6.3   \n",
       "\n",
       "            20 to 24 years  25 to 29 years  30 to 34 years  35 to 39 years  \\\n",
       "1                     22.0            27.0            32.0            37.0   \n",
       "Percentage             7.2             7.0             7.0             6.2   \n",
       "\n",
       "            40 to 44 years  45 to 49 years  50 to 54 years  55 to 59 years  \\\n",
       "1                     42.0            47.0            52.0            57.0   \n",
       "Percentage             6.0             5.8             6.8             7.1   \n",
       "\n",
       "            60 to 64 years  65 to 69 years  70 to 74 years  75 to 79 years  \\\n",
       "1                     62.0            67.0            72.0            77.0   \n",
       "Percentage             6.7             4.8             3.4             2.3   \n",
       "\n",
       "            80 to 84 years  85 years and over  \n",
       "1                     82.0               90.0  \n",
       "Percentage             1.7                1.7  "
      ]
     },
     "execution_count": 528,
     "metadata": {},
     "output_type": "execute_result"
    }
   ],
   "source": [
    "df_train"
   ]
  },
  {
   "cell_type": "code",
   "execution_count": 530,
   "id": "44a469ff-27b3-4419-90fb-054828202756",
   "metadata": {
    "scrolled": true
   },
   "outputs": [
    {
     "data": {
      "text/html": [
       "<div>\n",
       "<style scoped>\n",
       "    .dataframe tbody tr th:only-of-type {\n",
       "        vertical-align: middle;\n",
       "    }\n",
       "\n",
       "    .dataframe tbody tr th {\n",
       "        vertical-align: top;\n",
       "    }\n",
       "\n",
       "    .dataframe thead th {\n",
       "        text-align: right;\n",
       "    }\n",
       "</style>\n",
       "<table border=\"1\" class=\"dataframe\">\n",
       "  <thead>\n",
       "    <tr style=\"text-align: right;\">\n",
       "      <th></th>\n",
       "      <th>Under 5 years</th>\n",
       "      <th>5 to 9 years</th>\n",
       "      <th>10 to 14 years</th>\n",
       "      <th>15 to 19 years</th>\n",
       "      <th>20 to 24 years</th>\n",
       "      <th>25 to 29 years</th>\n",
       "      <th>30 to 34 years</th>\n",
       "      <th>35 to 39 years</th>\n",
       "      <th>40 to 44 years</th>\n",
       "      <th>45 to 49 years</th>\n",
       "      <th>50 to 54 years</th>\n",
       "      <th>55 to 59 years</th>\n",
       "      <th>60 to 64 years</th>\n",
       "      <th>65 to 69 years</th>\n",
       "      <th>70 to 74 years</th>\n",
       "      <th>75 to 79 years</th>\n",
       "      <th>80 to 84 years</th>\n",
       "      <th>85 years and over</th>\n",
       "    </tr>\n",
       "  </thead>\n",
       "  <tbody>\n",
       "    <tr>\n",
       "      <th>Midpoints</th>\n",
       "      <td>2.5</td>\n",
       "      <td>7.0</td>\n",
       "      <td>12.0</td>\n",
       "      <td>17.0</td>\n",
       "      <td>22.0</td>\n",
       "      <td>27.0</td>\n",
       "      <td>32.0</td>\n",
       "      <td>37.0</td>\n",
       "      <td>42.0</td>\n",
       "      <td>47.0</td>\n",
       "      <td>52.0</td>\n",
       "      <td>57.0</td>\n",
       "      <td>62.0</td>\n",
       "      <td>67.0</td>\n",
       "      <td>72.0</td>\n",
       "      <td>77.0</td>\n",
       "      <td>82.0</td>\n",
       "      <td>90.0</td>\n",
       "    </tr>\n",
       "    <tr>\n",
       "      <th>Percentage</th>\n",
       "      <td>6.5</td>\n",
       "      <td>6.9</td>\n",
       "      <td>6.6</td>\n",
       "      <td>6.3</td>\n",
       "      <td>7.2</td>\n",
       "      <td>7.0</td>\n",
       "      <td>7.0</td>\n",
       "      <td>6.2</td>\n",
       "      <td>6.0</td>\n",
       "      <td>5.8</td>\n",
       "      <td>6.8</td>\n",
       "      <td>7.1</td>\n",
       "      <td>6.7</td>\n",
       "      <td>4.8</td>\n",
       "      <td>3.4</td>\n",
       "      <td>2.3</td>\n",
       "      <td>1.7</td>\n",
       "      <td>1.7</td>\n",
       "    </tr>\n",
       "  </tbody>\n",
       "</table>\n",
       "</div>"
      ],
      "text/plain": [
       "            Under 5 years  5 to 9 years  10 to 14 years  15 to 19 years  \\\n",
       "Midpoints             2.5           7.0            12.0            17.0   \n",
       "Percentage            6.5           6.9             6.6             6.3   \n",
       "\n",
       "            20 to 24 years  25 to 29 years  30 to 34 years  35 to 39 years  \\\n",
       "Midpoints             22.0            27.0            32.0            37.0   \n",
       "Percentage             7.2             7.0             7.0             6.2   \n",
       "\n",
       "            40 to 44 years  45 to 49 years  50 to 54 years  55 to 59 years  \\\n",
       "Midpoints             42.0            47.0            52.0            57.0   \n",
       "Percentage             6.0             5.8             6.8             7.1   \n",
       "\n",
       "            60 to 64 years  65 to 69 years  70 to 74 years  75 to 79 years  \\\n",
       "Midpoints             62.0            67.0            72.0            77.0   \n",
       "Percentage             6.7             4.8             3.4             2.3   \n",
       "\n",
       "            80 to 84 years  85 years and over  \n",
       "Midpoints             82.0               90.0  \n",
       "Percentage             1.7                1.7  "
      ]
     },
     "execution_count": 530,
     "metadata": {},
     "output_type": "execute_result"
    }
   ],
   "source": [
    "df_train.index=['Midpoints','Percentage']\n",
    "df_train"
   ]
  },
  {
   "cell_type": "code",
   "execution_count": 532,
   "id": "85a61471-956b-4e7e-91c9-e9f340f9030b",
   "metadata": {},
   "outputs": [],
   "source": [
    "#####################COOL SO FAR###########################"
   ]
  },
  {
   "cell_type": "code",
   "execution_count": 1,
   "id": "74a820af-d082-4aa1-b9fa-54e9104c8781",
   "metadata": {},
   "outputs": [],
   "source": [
    "#Test line for commit"
   ]
  },
  {
   "cell_type": "code",
   "execution_count": 534,
   "id": "d45a830b-fb74-427e-a1f1-005cf03e835d",
   "metadata": {},
   "outputs": [
    {
     "ename": "KeyError",
     "evalue": "'Age groups'",
     "output_type": "error",
     "traceback": [
      "\u001b[1;31m---------------------------------------------------------------------------\u001b[0m",
      "\u001b[1;31mKeyError\u001b[0m                                  Traceback (most recent call last)",
      "File \u001b[1;32m~\\anaconda3\\Lib\\site-packages\\pandas\\core\\indexes\\base.py:3805\u001b[0m, in \u001b[0;36mIndex.get_loc\u001b[1;34m(self, key)\u001b[0m\n\u001b[0;32m   3804\u001b[0m \u001b[38;5;28;01mtry\u001b[39;00m:\n\u001b[1;32m-> 3805\u001b[0m     \u001b[38;5;28;01mreturn\u001b[39;00m \u001b[38;5;28mself\u001b[39m\u001b[38;5;241m.\u001b[39m_engine\u001b[38;5;241m.\u001b[39mget_loc(casted_key)\n\u001b[0;32m   3806\u001b[0m \u001b[38;5;28;01mexcept\u001b[39;00m \u001b[38;5;167;01mKeyError\u001b[39;00m \u001b[38;5;28;01mas\u001b[39;00m err:\n",
      "File \u001b[1;32mindex.pyx:167\u001b[0m, in \u001b[0;36mpandas._libs.index.IndexEngine.get_loc\u001b[1;34m()\u001b[0m\n",
      "File \u001b[1;32mindex.pyx:196\u001b[0m, in \u001b[0;36mpandas._libs.index.IndexEngine.get_loc\u001b[1;34m()\u001b[0m\n",
      "File \u001b[1;32mpandas\\\\_libs\\\\hashtable_class_helper.pxi:7081\u001b[0m, in \u001b[0;36mpandas._libs.hashtable.PyObjectHashTable.get_item\u001b[1;34m()\u001b[0m\n",
      "File \u001b[1;32mpandas\\\\_libs\\\\hashtable_class_helper.pxi:7089\u001b[0m, in \u001b[0;36mpandas._libs.hashtable.PyObjectHashTable.get_item\u001b[1;34m()\u001b[0m\n",
      "\u001b[1;31mKeyError\u001b[0m: 'Age groups'",
      "\nThe above exception was the direct cause of the following exception:\n",
      "\u001b[1;31mKeyError\u001b[0m                                  Traceback (most recent call last)",
      "Cell \u001b[1;32mIn[534], line 2\u001b[0m\n\u001b[0;32m      1\u001b[0m \u001b[38;5;66;03m#Find mean age\u001b[39;00m\n\u001b[1;32m----> 2\u001b[0m ages\u001b[38;5;241m=\u001b[39mdf_train[\u001b[38;5;124m'\u001b[39m\u001b[38;5;124mAge groups\u001b[39m\u001b[38;5;124m'\u001b[39m]\n\u001b[0;32m      3\u001b[0m \u001b[38;5;66;03m# ages=np.array(ages)\u001b[39;00m\n\u001b[0;32m      4\u001b[0m \u001b[38;5;66;03m# type(ages)\u001b[39;00m\n\u001b[0;32m      6\u001b[0m df_train[\u001b[38;5;124m'\u001b[39m\u001b[38;5;124mMidpoint\u001b[39m\u001b[38;5;124m'\u001b[39m]\u001b[38;5;241m=\u001b[39mmidpoints\n",
      "File \u001b[1;32m~\\anaconda3\\Lib\\site-packages\\pandas\\core\\frame.py:4102\u001b[0m, in \u001b[0;36mDataFrame.__getitem__\u001b[1;34m(self, key)\u001b[0m\n\u001b[0;32m   4100\u001b[0m \u001b[38;5;28;01mif\u001b[39;00m \u001b[38;5;28mself\u001b[39m\u001b[38;5;241m.\u001b[39mcolumns\u001b[38;5;241m.\u001b[39mnlevels \u001b[38;5;241m>\u001b[39m \u001b[38;5;241m1\u001b[39m:\n\u001b[0;32m   4101\u001b[0m     \u001b[38;5;28;01mreturn\u001b[39;00m \u001b[38;5;28mself\u001b[39m\u001b[38;5;241m.\u001b[39m_getitem_multilevel(key)\n\u001b[1;32m-> 4102\u001b[0m indexer \u001b[38;5;241m=\u001b[39m \u001b[38;5;28mself\u001b[39m\u001b[38;5;241m.\u001b[39mcolumns\u001b[38;5;241m.\u001b[39mget_loc(key)\n\u001b[0;32m   4103\u001b[0m \u001b[38;5;28;01mif\u001b[39;00m is_integer(indexer):\n\u001b[0;32m   4104\u001b[0m     indexer \u001b[38;5;241m=\u001b[39m [indexer]\n",
      "File \u001b[1;32m~\\anaconda3\\Lib\\site-packages\\pandas\\core\\indexes\\base.py:3812\u001b[0m, in \u001b[0;36mIndex.get_loc\u001b[1;34m(self, key)\u001b[0m\n\u001b[0;32m   3807\u001b[0m     \u001b[38;5;28;01mif\u001b[39;00m \u001b[38;5;28misinstance\u001b[39m(casted_key, \u001b[38;5;28mslice\u001b[39m) \u001b[38;5;129;01mor\u001b[39;00m (\n\u001b[0;32m   3808\u001b[0m         \u001b[38;5;28misinstance\u001b[39m(casted_key, abc\u001b[38;5;241m.\u001b[39mIterable)\n\u001b[0;32m   3809\u001b[0m         \u001b[38;5;129;01mand\u001b[39;00m \u001b[38;5;28many\u001b[39m(\u001b[38;5;28misinstance\u001b[39m(x, \u001b[38;5;28mslice\u001b[39m) \u001b[38;5;28;01mfor\u001b[39;00m x \u001b[38;5;129;01min\u001b[39;00m casted_key)\n\u001b[0;32m   3810\u001b[0m     ):\n\u001b[0;32m   3811\u001b[0m         \u001b[38;5;28;01mraise\u001b[39;00m InvalidIndexError(key)\n\u001b[1;32m-> 3812\u001b[0m     \u001b[38;5;28;01mraise\u001b[39;00m \u001b[38;5;167;01mKeyError\u001b[39;00m(key) \u001b[38;5;28;01mfrom\u001b[39;00m \u001b[38;5;21;01merr\u001b[39;00m\n\u001b[0;32m   3813\u001b[0m \u001b[38;5;28;01mexcept\u001b[39;00m \u001b[38;5;167;01mTypeError\u001b[39;00m:\n\u001b[0;32m   3814\u001b[0m     \u001b[38;5;66;03m# If we have a listlike key, _check_indexing_error will raise\u001b[39;00m\n\u001b[0;32m   3815\u001b[0m     \u001b[38;5;66;03m#  InvalidIndexError. Otherwise we fall through and re-raise\u001b[39;00m\n\u001b[0;32m   3816\u001b[0m     \u001b[38;5;66;03m#  the TypeError.\u001b[39;00m\n\u001b[0;32m   3817\u001b[0m     \u001b[38;5;28mself\u001b[39m\u001b[38;5;241m.\u001b[39m_check_indexing_error(key)\n",
      "\u001b[1;31mKeyError\u001b[0m: 'Age groups'"
     ]
    }
   ],
   "source": [
    "#Find mean age\n",
    "ages=df_train['Age groups']\n",
    "# ages=np.array(ages)\n",
    "# type(ages)\n",
    "\n",
    "df_train['Midpoint']=midpoints\n",
    "df_test['Midpoint']=midpoints\n",
    "df_train=df_train.reindex(columns=['Age groups', 'Midpoint','Percentage of total population (%)'])\n",
    "dfdf_test.reindex(columns=['Age groups', 'Midpoint','Percentage of total population (%)'])"
   ]
  },
  {
   "cell_type": "code",
   "execution_count": 52,
   "id": "17e6e6ed-6141-4e85-915d-b96f4b4236a9",
   "metadata": {},
   "outputs": [],
   "source": [
    "df_train.drop(['Age groups'],axis=1,inplace=True)"
   ]
  },
  {
   "cell_type": "code",
   "execution_count": 54,
   "id": "30c6172f-971d-4c73-b80f-33a7dcae1276",
   "metadata": {},
   "outputs": [
    {
     "name": "stdout",
     "output_type": "stream",
     "text": [
      "37.8585 38.82919180902159\n"
     ]
    }
   ],
   "source": [
    "average_age_train=(df_train['Midpoint'] * df_train['Percentage of total population (%)']).sum()/df_train['Percentage of total population (%)'].sum()\n",
    "average_age_test=(df_test['Midpoint'] * df_test['Percentage of total population (%)']).sum()/df_test['Percentage of total population (%)'].sum()\n",
    "\n",
    "print(average_age_train,average_age_test)"
   ]
  },
  {
   "cell_type": "code",
   "execution_count": 56,
   "id": "1848f88e-aec6-43d6-8c39-18ff389d85e9",
   "metadata": {},
   "outputs": [],
   "source": [
    "##OPTIONAL, IF WE WANT TO KEEP ONLY 18+ ## (DOESNT CHANGE RESULTS)\n",
    "# df_train.drop([0,1,2],axis=0,inplace=True)\n",
    "# print(df_train)\n",
    "# df_test.drop([0,1,2],axis=0,inplace=True)\n",
    "# print(df_test)"
   ]
  },
  {
   "cell_type": "code",
   "execution_count": 58,
   "id": "98945ccf-4708-4055-86ad-90eb50cdb610",
   "metadata": {},
   "outputs": [
    {
     "name": "stdout",
     "output_type": "stream",
     "text": [
      "        Party   Votes\n",
      "0  Republican  174419\n",
      "1    Democrat   55973\n",
      "2       Other   25457\n"
     ]
    }
   ],
   "source": [
    "print(df_train_target)"
   ]
  },
  {
   "cell_type": "code",
   "execution_count": 90,
   "id": "e4cba9f5-be11-40b0-9faf-8ca18942f91f",
   "metadata": {
    "scrolled": true
   },
   "outputs": [
    {
     "name": "stdout",
     "output_type": "stream",
     "text": [
      "[[ 2.5  6.5]\n",
      " [ 7.   6.9]\n",
      " [12.   6.6]\n",
      " [17.   6.3]\n",
      " [22.   7.2]\n",
      " [27.   7. ]\n",
      " [32.   7. ]\n",
      " [37.   6.2]\n",
      " [42.   6. ]\n",
      " [47.   5.8]\n",
      " [52.   6.8]\n",
      " [57.   7.1]\n",
      " [62.   6.7]\n",
      " [67.   4.8]\n",
      " [72.   3.4]\n",
      " [77.   2.3]\n",
      " [82.   1.7]\n",
      " [90.   1.7]] [174419 55973 25457]\n"
     ]
    }
   ],
   "source": [
    "## Linear Regression ##\n",
    "#1. Load Data\n",
    "X=df_train.values[:,:] #Matrix of [midpoint age,percentage]\n",
    "y=df_train_target.values[:,1] #Array of votes of 3 choices: 1. Republican, 2. Democrat, 3. Other\n",
    "print(X,y)"
   ]
  },
  {
   "cell_type": "code",
   "execution_count": 92,
   "id": "3e965547-5914-40da-9098-e19f7463db7e",
   "metadata": {},
   "outputs": [
    {
     "ename": "ValueError",
     "evalue": "Found input variables with inconsistent numbers of samples: [18, 3]",
     "output_type": "error",
     "traceback": [
      "\u001b[1;31m---------------------------------------------------------------------------\u001b[0m",
      "\u001b[1;31mValueError\u001b[0m                                Traceback (most recent call last)",
      "Cell \u001b[1;32mIn[92], line 4\u001b[0m\n\u001b[0;32m      2\u001b[0m \u001b[38;5;28;01mfrom\u001b[39;00m \u001b[38;5;21;01msklearn\u001b[39;00m\u001b[38;5;21;01m.\u001b[39;00m\u001b[38;5;21;01mlinear_model\u001b[39;00m \u001b[38;5;28;01mimport\u001b[39;00m LinearRegression\n\u001b[0;32m      3\u001b[0m model\u001b[38;5;241m=\u001b[39mLinearRegression()\n\u001b[1;32m----> 4\u001b[0m model\u001b[38;5;241m.\u001b[39mfit(X,y)\n",
      "File \u001b[1;32m~\\anaconda3\\Lib\\site-packages\\sklearn\\base.py:1473\u001b[0m, in \u001b[0;36m_fit_context.<locals>.decorator.<locals>.wrapper\u001b[1;34m(estimator, *args, **kwargs)\u001b[0m\n\u001b[0;32m   1466\u001b[0m     estimator\u001b[38;5;241m.\u001b[39m_validate_params()\n\u001b[0;32m   1468\u001b[0m \u001b[38;5;28;01mwith\u001b[39;00m config_context(\n\u001b[0;32m   1469\u001b[0m     skip_parameter_validation\u001b[38;5;241m=\u001b[39m(\n\u001b[0;32m   1470\u001b[0m         prefer_skip_nested_validation \u001b[38;5;129;01mor\u001b[39;00m global_skip_validation\n\u001b[0;32m   1471\u001b[0m     )\n\u001b[0;32m   1472\u001b[0m ):\n\u001b[1;32m-> 1473\u001b[0m     \u001b[38;5;28;01mreturn\u001b[39;00m fit_method(estimator, \u001b[38;5;241m*\u001b[39margs, \u001b[38;5;241m*\u001b[39m\u001b[38;5;241m*\u001b[39mkwargs)\n",
      "File \u001b[1;32m~\\anaconda3\\Lib\\site-packages\\sklearn\\linear_model\\_base.py:609\u001b[0m, in \u001b[0;36mLinearRegression.fit\u001b[1;34m(self, X, y, sample_weight)\u001b[0m\n\u001b[0;32m    605\u001b[0m n_jobs_ \u001b[38;5;241m=\u001b[39m \u001b[38;5;28mself\u001b[39m\u001b[38;5;241m.\u001b[39mn_jobs\n\u001b[0;32m    607\u001b[0m accept_sparse \u001b[38;5;241m=\u001b[39m \u001b[38;5;28;01mFalse\u001b[39;00m \u001b[38;5;28;01mif\u001b[39;00m \u001b[38;5;28mself\u001b[39m\u001b[38;5;241m.\u001b[39mpositive \u001b[38;5;28;01melse\u001b[39;00m [\u001b[38;5;124m\"\u001b[39m\u001b[38;5;124mcsr\u001b[39m\u001b[38;5;124m\"\u001b[39m, \u001b[38;5;124m\"\u001b[39m\u001b[38;5;124mcsc\u001b[39m\u001b[38;5;124m\"\u001b[39m, \u001b[38;5;124m\"\u001b[39m\u001b[38;5;124mcoo\u001b[39m\u001b[38;5;124m\"\u001b[39m]\n\u001b[1;32m--> 609\u001b[0m X, y \u001b[38;5;241m=\u001b[39m \u001b[38;5;28mself\u001b[39m\u001b[38;5;241m.\u001b[39m_validate_data(\n\u001b[0;32m    610\u001b[0m     X,\n\u001b[0;32m    611\u001b[0m     y,\n\u001b[0;32m    612\u001b[0m     accept_sparse\u001b[38;5;241m=\u001b[39maccept_sparse,\n\u001b[0;32m    613\u001b[0m     y_numeric\u001b[38;5;241m=\u001b[39m\u001b[38;5;28;01mTrue\u001b[39;00m,\n\u001b[0;32m    614\u001b[0m     multi_output\u001b[38;5;241m=\u001b[39m\u001b[38;5;28;01mTrue\u001b[39;00m,\n\u001b[0;32m    615\u001b[0m     force_writeable\u001b[38;5;241m=\u001b[39m\u001b[38;5;28;01mTrue\u001b[39;00m,\n\u001b[0;32m    616\u001b[0m )\n\u001b[0;32m    618\u001b[0m has_sw \u001b[38;5;241m=\u001b[39m sample_weight \u001b[38;5;129;01mis\u001b[39;00m \u001b[38;5;129;01mnot\u001b[39;00m \u001b[38;5;28;01mNone\u001b[39;00m\n\u001b[0;32m    619\u001b[0m \u001b[38;5;28;01mif\u001b[39;00m has_sw:\n",
      "File \u001b[1;32m~\\anaconda3\\Lib\\site-packages\\sklearn\\base.py:650\u001b[0m, in \u001b[0;36mBaseEstimator._validate_data\u001b[1;34m(self, X, y, reset, validate_separately, cast_to_ndarray, **check_params)\u001b[0m\n\u001b[0;32m    648\u001b[0m         y \u001b[38;5;241m=\u001b[39m check_array(y, input_name\u001b[38;5;241m=\u001b[39m\u001b[38;5;124m\"\u001b[39m\u001b[38;5;124my\u001b[39m\u001b[38;5;124m\"\u001b[39m, \u001b[38;5;241m*\u001b[39m\u001b[38;5;241m*\u001b[39mcheck_y_params)\n\u001b[0;32m    649\u001b[0m     \u001b[38;5;28;01melse\u001b[39;00m:\n\u001b[1;32m--> 650\u001b[0m         X, y \u001b[38;5;241m=\u001b[39m check_X_y(X, y, \u001b[38;5;241m*\u001b[39m\u001b[38;5;241m*\u001b[39mcheck_params)\n\u001b[0;32m    651\u001b[0m     out \u001b[38;5;241m=\u001b[39m X, y\n\u001b[0;32m    653\u001b[0m \u001b[38;5;28;01mif\u001b[39;00m \u001b[38;5;129;01mnot\u001b[39;00m no_val_X \u001b[38;5;129;01mand\u001b[39;00m check_params\u001b[38;5;241m.\u001b[39mget(\u001b[38;5;124m\"\u001b[39m\u001b[38;5;124mensure_2d\u001b[39m\u001b[38;5;124m\"\u001b[39m, \u001b[38;5;28;01mTrue\u001b[39;00m):\n",
      "File \u001b[1;32m~\\anaconda3\\Lib\\site-packages\\sklearn\\utils\\validation.py:1320\u001b[0m, in \u001b[0;36mcheck_X_y\u001b[1;34m(X, y, accept_sparse, accept_large_sparse, dtype, order, copy, force_writeable, force_all_finite, ensure_2d, allow_nd, multi_output, ensure_min_samples, ensure_min_features, y_numeric, estimator)\u001b[0m\n\u001b[0;32m   1301\u001b[0m X \u001b[38;5;241m=\u001b[39m check_array(\n\u001b[0;32m   1302\u001b[0m     X,\n\u001b[0;32m   1303\u001b[0m     accept_sparse\u001b[38;5;241m=\u001b[39maccept_sparse,\n\u001b[1;32m   (...)\u001b[0m\n\u001b[0;32m   1315\u001b[0m     input_name\u001b[38;5;241m=\u001b[39m\u001b[38;5;124m\"\u001b[39m\u001b[38;5;124mX\u001b[39m\u001b[38;5;124m\"\u001b[39m,\n\u001b[0;32m   1316\u001b[0m )\n\u001b[0;32m   1318\u001b[0m y \u001b[38;5;241m=\u001b[39m _check_y(y, multi_output\u001b[38;5;241m=\u001b[39mmulti_output, y_numeric\u001b[38;5;241m=\u001b[39my_numeric, estimator\u001b[38;5;241m=\u001b[39mestimator)\n\u001b[1;32m-> 1320\u001b[0m check_consistent_length(X, y)\n\u001b[0;32m   1322\u001b[0m \u001b[38;5;28;01mreturn\u001b[39;00m X, y\n",
      "File \u001b[1;32m~\\anaconda3\\Lib\\site-packages\\sklearn\\utils\\validation.py:457\u001b[0m, in \u001b[0;36mcheck_consistent_length\u001b[1;34m(*arrays)\u001b[0m\n\u001b[0;32m    455\u001b[0m uniques \u001b[38;5;241m=\u001b[39m np\u001b[38;5;241m.\u001b[39munique(lengths)\n\u001b[0;32m    456\u001b[0m \u001b[38;5;28;01mif\u001b[39;00m \u001b[38;5;28mlen\u001b[39m(uniques) \u001b[38;5;241m>\u001b[39m \u001b[38;5;241m1\u001b[39m:\n\u001b[1;32m--> 457\u001b[0m     \u001b[38;5;28;01mraise\u001b[39;00m \u001b[38;5;167;01mValueError\u001b[39;00m(\n\u001b[0;32m    458\u001b[0m         \u001b[38;5;124m\"\u001b[39m\u001b[38;5;124mFound input variables with inconsistent numbers of samples: \u001b[39m\u001b[38;5;132;01m%r\u001b[39;00m\u001b[38;5;124m\"\u001b[39m\n\u001b[0;32m    459\u001b[0m         \u001b[38;5;241m%\u001b[39m [\u001b[38;5;28mint\u001b[39m(l) \u001b[38;5;28;01mfor\u001b[39;00m l \u001b[38;5;129;01min\u001b[39;00m lengths]\n\u001b[0;32m    460\u001b[0m     )\n",
      "\u001b[1;31mValueError\u001b[0m: Found input variables with inconsistent numbers of samples: [18, 3]"
     ]
    }
   ],
   "source": [
    "#2. Model\n",
    "from sklearn.linear_model import LinearRegression\n",
    "model=LinearRegression()\n",
    "model.fit(X,y)"
   ]
  },
  {
   "cell_type": "code",
   "execution_count": null,
   "id": "17dfc8d7-d520-4c82-8377-04d1cf1d0a50",
   "metadata": {},
   "outputs": [],
   "source": []
  }
 ],
 "metadata": {
  "kernelspec": {
   "display_name": "Python 3 (ipykernel)",
   "language": "python",
   "name": "python3"
  },
  "language_info": {
   "codemirror_mode": {
    "name": "ipython",
    "version": 3
   },
   "file_extension": ".py",
   "mimetype": "text/x-python",
   "name": "python",
   "nbconvert_exporter": "python",
   "pygments_lexer": "ipython3",
   "version": "3.11.10"
  }
 },
 "nbformat": 4,
 "nbformat_minor": 5
}
