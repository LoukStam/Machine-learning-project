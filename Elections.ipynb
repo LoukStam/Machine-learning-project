{
 "cells": [
  {
   "cell_type": "code",
   "execution_count": 1,
   "id": "95a7d58c-42c9-4ea2-94f1-1c27cb9ce46c",
   "metadata": {},
   "outputs": [
    {
     "name": "stdout",
     "output_type": "stream",
     "text": [
      "C:\\Users\\louka\\Desktop\\Machine Learning course\\Project\\Machine-learning-project\n"
     ]
    }
   ],
   "source": [
    "import numpy as np\n",
    "import pandas as pd\n",
    "import matplotlib.pyplot as plt\n",
    "import os\n",
    "os.chdir('C:/Users/louka/Desktop/Machine Learning course/Project/Machine-learning-project')\n",
    "print(os.getcwd())"
   ]
  },
  {
   "cell_type": "code",
   "execution_count": 221,
   "id": "eb946ca4-8c52-4a03-a4dd-dea3f13b395a",
   "metadata": {},
   "outputs": [],
   "source": [
    "#We should probably use a classification model, like in tuto 7"
   ]
  },
  {
   "cell_type": "code",
   "execution_count": 204,
   "id": "7b755d6a-45a3-481f-ba46-b962f56a3b52",
   "metadata": {},
   "outputs": [],
   "source": [
    "#useful functions\n",
    "def swap_rows(df, row1, row2):\n",
    "    df.iloc[row1], df.iloc[row2] =  df.iloc[row2].copy(), df.iloc[row1].copy()\n",
    "    return df\n",
    "def process_percentage_column(column):\n",
    "    return column.str.rstrip('%').astype(float) / 100"
   ]
  },
  {
   "cell_type": "code",
   "execution_count": 206,
   "id": "7699a398-b366-4d66-a238-b4a85ec4ad3d",
   "metadata": {
    "scrolled": true
   },
   "outputs": [
    {
     "name": "stdout",
     "output_type": "stream",
     "text": [
      "                      Percent Democrat  Percent Republican  Percent Other\n",
      "STATE                                                                    \n",
      "Alabama                         0.3657              0.6203         0.0140\n",
      "Alaska                          0.4277              0.5283         0.0439\n",
      "Arizona                         0.4936              0.4906         0.0158\n",
      "Arkansas                        0.3478              0.6240         0.0283\n",
      "California                      0.6348              0.3432         0.0220\n",
      "Colorado                        0.5540              0.4190         0.0270\n",
      "Connecticut                     0.5924              0.3921         0.0155\n",
      "Delaware                        0.5878              0.3980         0.0142\n",
      "District of Columbia            0.9215              0.0540         0.0245\n",
      "Florida                         0.4786              0.5122         0.0092\n",
      "Georgia                         0.4950              0.4926         0.0125\n",
      "Hawaii                          0.6373              0.3427         0.0200\n",
      "Idaho                           0.3307              0.6384         0.0310\n",
      "Illinois                        0.5754              0.4055         0.0190\n",
      "Indiana                         0.4096              0.5702         0.0202\n",
      "Iowa                            0.4489              0.5309         0.0202\n",
      "Kansas                          0.4156              0.5621         0.0223\n",
      "Kentucky                        0.3615              0.6209         0.0176\n",
      "Louisiana                       0.3985              0.5846         0.0169\n",
      "Maine                           0.5309              0.4402         0.0289\n",
      "Maryland                        0.6536              0.3215         0.0249\n",
      "Massachusetts                   0.6560              0.3214         0.0226\n",
      "Michigan                        0.5062              0.4784         0.0154\n",
      "Minnesota                       0.5240              0.4528         0.0232\n",
      "Mississippi                     0.4106              0.5760         0.0134\n",
      "Missouri                        0.4141              0.5680         0.0179\n",
      "Montana                         0.4055              0.5692         0.0253\n",
      "Nebraska                        0.3936              0.5851         0.0213\n",
      "Nevada                          0.5006              0.4767         0.0228\n",
      "New Hampshire                   0.5271              0.4536         0.0194\n",
      "New Jersey                      0.5733              0.4140         0.0127\n",
      "New Mexico                      0.5429              0.4350         0.0221\n",
      "New York                        0.6086              0.3775         0.0139\n",
      "North Carolina                  0.4859              0.4993         0.0148\n",
      "North Dakota                    0.3176              0.6511         0.0313\n",
      "Ohio                            0.4524              0.5327         0.0149\n",
      "Oklahoma                        0.3229              0.6537         0.0234\n",
      "Oregon                          0.5645              0.4037         0.0318\n",
      "Pennsylvania                    0.5001              0.4884         0.0115\n",
      "Rhode Island                    0.5939              0.3861         0.0200\n",
      "South Carolina                  0.4343              0.5511         0.0146\n",
      "South Dakota                    0.3561              0.6177         0.0263\n",
      "Tennessee                       0.3745              0.6066         0.0189\n",
      "Texas                           0.4648              0.5206         0.0146\n",
      "Utah                            0.3765              0.5813         0.0422\n",
      "Vermont                         0.6609              0.3067         0.0324\n",
      "Virginia                        0.5411              0.4400         0.0189\n",
      "Washington                      0.5797              0.3877         0.0326\n",
      "West Virginia                   0.2970              0.6863         0.0167\n",
      "Wisconsin                       0.4945              0.4882         0.0173\n",
      "Wyoming                         0.2655              0.6994         0.0351\n"
     ]
    }
   ],
   "source": [
    "df_train = pd.read_csv('Data/2016 Census AGE, RACE, LITERACY (final version).csv')\n",
    "df_train_target= pd.read_csv('Data/2016 Presidential Election Results by State.csv')\n",
    "df_test = pd.read_csv('Data/2020 Census AGE,RACE, LITERACY.csv')\n",
    "df_test_target=pd.read_csv('Data/2020 elections made.csv')\n",
    "df_train = df_train.dropna()\n",
    "df_test=df_test.dropna()\n",
    "df_train_target=df_train_target.dropna() #weird issue encountered\n",
    "#print(df_train_target)\n",
    "\n",
    "\n",
    "#Make indices nice etc\n",
    "df_train.set_index(\"STATE\",inplace=True) #nice\n",
    "df_train_target.set_index(\"STATE\",inplace=True)\n",
    "df_test.set_index(\"STATE\",inplace=True) #nice\n",
    "df_test_target.set_index(\"STATE\",inplace=True)\n",
    "\n",
    "#Fix some mistakes\n",
    "df_test_target = df_test_target.apply(process_percentage_column) #Nice\n",
    "print(df_test_target)"
   ]
  },
  {
   "cell_type": "code",
   "execution_count": 208,
   "id": "311d328c-8340-4f31-a840-499350572102",
   "metadata": {},
   "outputs": [
    {
     "name": "stdout",
     "output_type": "stream",
     "text": [
      "        Median age (years)                                38.358000\n",
      "Percent under 19                                          25.000000\n",
      "Percent 19 - 45                                           31.900000\n",
      "Percent 45-65                                             26.200000\n",
      "over 65                                                   16.900000\n",
      "            White                                         67.500000\n",
      "        Two or more races                                  2.400000\n",
      "            Black or African American                     26.600000\n",
      "            American Indian and Alaska Native              0.500000\n",
      "            Asian                                          1.400000\n",
      "        Hispanic or Latino (of any race)                   4.400000\n",
      "            Native Hawaiian and Other Pacific Islander     0.000000\n",
      "            Some other race                                1.500000\n",
      "18-24 no highschool                                       12.276557\n",
      "18-24 high school                                         33.973235\n",
      "18-24 bachelor plus                                        7.961987\n",
      "25+ no highschool                                         13.126382\n",
      "25+ high school plus                                      86.873618\n",
      "25+ bachelor plus                                         26.227345\n",
      "Name: Alabama, dtype: float64 \n",
      "\n",
      "Percent Democrat      0.3657\n",
      "Percent Republican    0.6203\n",
      "Percent Other         0.0140\n",
      "Name: Alabama, dtype: float64\n"
     ]
    }
   ],
   "source": [
    "print(df_test.loc[\"Alabama\"],'\\n')\n",
    "print(df_test_target.loc[\"Alabama\"])"
   ]
  },
  {
   "cell_type": "code",
   "execution_count": 210,
   "id": "b4ac5e29-4df7-42e1-9d74-1fed66aff9c2",
   "metadata": {},
   "outputs": [],
   "source": [
    "# df_test.drop(columns=['25+ no highschool'],inplace=True)"
   ]
  },
  {
   "cell_type": "code",
   "execution_count": 212,
   "id": "a795aa00-d422-4653-8884-8391019d8845",
   "metadata": {},
   "outputs": [],
   "source": [
    "# df_train.drop(columns=['25+ no highschool'],inplace=True)"
   ]
  },
  {
   "cell_type": "code",
   "execution_count": 214,
   "id": "26715a98-3577-40cf-805b-5e1247da09b9",
   "metadata": {},
   "outputs": [
    {
     "name": "stdout",
     "output_type": "stream",
     "text": [
      "(51, 3)\n",
      "Index([0, 1, 2, 3, 4, 5, 6, 7], dtype='int64')\n",
      "R^2= -0.09\n",
      "[[0.4375     0.515625   0.02050781]\n",
      " [0.3984375  0.4921875  0.10546875]\n",
      " [0.4453125  0.4453125  0.04296875]\n",
      " [0.3515625  0.5859375  0.02832031]\n",
      " [0.484375   0.4375     0.02050781]\n",
      " [0.5234375  0.3359375  0.05371094]\n",
      " [0.5078125  0.4140625  0.046875  ]\n",
      " [0.46875    0.5078125  0.01855469]] \n",
      "\n",
      "Index([8, 9, 10, 11, 12, 13, 14, 15], dtype='int64')\n",
      "R^2= -4.52\n",
      "[[ 0.7361095   0.18468081  0.00144021]\n",
      " [ 0.57371498  0.37354972  0.05677564]\n",
      " [ 0.40238437  0.5609434   0.01992615]\n",
      " [ 1.33999526 -0.93759891  0.10071622]\n",
      " [ 0.18435437  0.73118951  0.03990432]\n",
      " [ 0.4853707   0.4500208   0.02805579]\n",
      " [ 0.38889909  0.54313816  0.03252117]\n",
      " [ 0.39364365  0.5051903   0.04519605]] \n",
      "\n",
      "Index([16, 17, 18, 19, 20, 21, 22], dtype='int64')\n",
      "R^2= 0.61\n",
      "[[0.3963384  0.50776252 0.0421554 ]\n",
      " [0.24810381 0.71504516 0.03933303]\n",
      " [0.39318039 0.6021976  0.01509958]\n",
      " [0.44448981 0.50258549 0.03755674]\n",
      " [0.52622699 0.45266452 0.02227014]\n",
      " [0.5603143  0.37629481 0.04143082]\n",
      " [0.47645643 0.46412605 0.03258011]] \n",
      "\n",
      "Index([23, 24, 25, 26, 27, 28, 29], dtype='int64')\n",
      "R^2= 0.29\n",
      "[[0.41015625 0.50390625 0.046875  ]\n",
      " [0.40234375 0.54296875 0.01806641]\n",
      " [0.39453125 0.53125    0.03710938]\n",
      " [0.30859375 0.5703125  0.04785156]\n",
      " [0.33984375 0.55078125 0.04394531]\n",
      " [0.53125    0.375      0.03125   ]\n",
      " [0.5390625  0.390625   0.03369141]] \n",
      "\n",
      "Index([30, 31, 32, 33, 34, 35, 36], dtype='int64')\n",
      "R^2= -0.44\n",
      "[[0.6015625  0.3828125  0.03515625]\n",
      " [0.390625   0.6015625  0.04101562]\n",
      " [0.65625    0.3203125  0.02734375]\n",
      " [0.4609375  0.4765625  0.03320312]\n",
      " [0.40625    0.4765625  0.0390625 ]\n",
      " [0.3828125  0.5625     0.03515625]\n",
      " [0.328125   0.6171875  0.0546875 ]] \n",
      "\n",
      "Index([37, 38, 39, 40, 41, 42, 43], dtype='int64')\n",
      "R^2= -0.62\n",
      "[[0.515625   0.421875   0.04614258]\n",
      " [0.390625   0.546875   0.03515625]\n",
      " [0.625      0.265625   0.04516602]\n",
      " [0.453125   0.5        0.02441406]\n",
      " [0.171875   0.703125   0.07055664]\n",
      " [0.328125   0.625      0.02587891]\n",
      " [0.171875   0.75       0.0402832 ]] \n",
      "\n",
      "Index([44, 45, 46, 47, 48, 49, 50], dtype='int64')\n",
      "R^2= 0.30\n",
      "[[0.3828125  0.5        0.05761719]\n",
      " [0.4765625  0.46875    0.04052734]\n",
      " [0.4453125  0.515625   0.02966309]\n",
      " [0.5078125  0.4296875  0.04785156]\n",
      " [0.3515625  0.6171875  0.02758789]\n",
      " [0.4453125  0.484375   0.04138184]\n",
      " [0.3984375  0.5078125  0.05847168]] \n",
      "\n"
     ]
    }
   ],
   "source": [
    "#Perform Kfold in 2016 (train and train_target) data\n",
    "from sklearn.linear_model import LinearRegression\n",
    "from sklearn.model_selection import KFold\n",
    "from sklearn.metrics import mean_squared_error, r2_score\n",
    "#Set X and y\n",
    "X = df_train.reset_index(drop=True)\n",
    "y = df_train_target.reset_index(drop=True)\n",
    "print(y.shape)\n",
    "k= 7 #number of folds. 7 is a good candidate for a balanced R^2 mean.\n",
    "kf = KFold(n_splits=k, shuffle=False) #make kfold item\n",
    "R2=[]\n",
    "y_pred_array=[]\n",
    "for (train_index, test_index) in kf.split(X):\n",
    "    X_train, X_test = X.iloc[train_index], X.iloc[test_index]\n",
    "    #print(X_train,X_test)\n",
    "    y_train, y_test = y.iloc[train_index], y.iloc[test_index]\n",
    "    print(X_test.index)\n",
    "    reg=LinearRegression()\n",
    "    reg.fit(X_train,y_train)\n",
    "    y_pred=reg.predict(X_test)\n",
    "    print('R^2= %.2f' %r2_score(y_test,y_pred))\n",
    "    R2.append(r2_score(y_test,y_pred))\n",
    "    y_pred_array.append(y_pred)\n",
    "    print(y_pred,'\\n')\n",
    "    #confusion_matrix(y_test,y_pred)\n",
    "R2_mean=np.mean(R2)\n",
    "\n",
    "#print('The mean R² score is: %.2f' %R2_mean)"
   ]
  },
  {
   "cell_type": "code",
   "execution_count": 216,
   "id": "8eda8898-5f97-4959-baca-0f44d0c26e60",
   "metadata": {},
   "outputs": [
    {
     "data": {
      "text/plain": [
       "array([[-1.29141477e-02, -3.44823102e-02,  1.51805529e-02,\n",
       "         1.98868674e-02, -4.68553270e-03, -1.67065163e-01,\n",
       "        -1.63058910e-01, -1.63643923e-01, -1.74174061e-01,\n",
       "        -1.82345668e-01,  2.55330674e-03, -7.98633504e-02,\n",
       "        -1.36178922e-01,  7.97663073e-03, -8.95285129e-03,\n",
       "        -1.74511766e-03,  6.06862978e+11,  6.06862978e+11,\n",
       "        -1.50161490e-03],\n",
       "       [ 9.08224192e-04,  4.92664488e-02, -2.78664247e-03,\n",
       "        -2.04695630e-03,  3.30566788e-02,  1.64338121e-01,\n",
       "         1.60964964e-01,  1.61562622e-01,  1.70372900e-01,\n",
       "         1.83561005e-01, -2.58483343e-03,  6.40937795e-02,\n",
       "         1.29949140e-01, -6.36755282e-03,  9.37365793e-03,\n",
       "         6.24560332e-03, -6.19549234e+11, -6.19549234e+11,\n",
       "        -4.09007161e-04],\n",
       "       [ 1.00359522e-02,  1.38506493e-03, -6.82506475e-04,\n",
       "        -2.83599017e-03, -6.07526397e-03,  1.10475714e-02,\n",
       "         1.15137673e-02,  1.05090987e-02,  1.30927996e-02,\n",
       "         9.43106165e-03,  2.01045376e-04,  1.60744389e-02,\n",
       "         1.04274794e-02,  4.68539023e-04, -1.46379609e-03,\n",
       "        -1.39749091e-04,  8.31526734e+09,  8.31526734e+09,\n",
       "         1.02652487e-04]])"
      ]
     },
     "execution_count": 216,
     "metadata": {},
     "output_type": "execute_result"
    }
   ],
   "source": [
    "reg.coef_"
   ]
  },
  {
   "cell_type": "code",
   "execution_count": 218,
   "id": "f7171875-7589-4c80-9eb7-68db16023ab0",
   "metadata": {},
   "outputs": [
    {
     "name": "stdout",
     "output_type": "stream",
     "text": [
      "-0.03954772279077501\n"
     ]
    }
   ],
   "source": [
    "#Now, let's perform a prediction on the whole entire sample\n",
    "y_tot_pred=reg.predict(df_test)\n",
    "#print(y_tot_pred)\n",
    "R2_tot=r2_score(y_tot_pred,df_test_target)\n",
    "print(R2_tot)"
   ]
  },
  {
   "cell_type": "code",
   "execution_count": null,
   "id": "f5db51e0-c080-49fb-9b28-1216402dd142",
   "metadata": {},
   "outputs": [],
   "source": []
  }
 ],
 "metadata": {
  "kernelspec": {
   "display_name": "Python 3 (ipykernel)",
   "language": "python",
   "name": "python3"
  },
  "language_info": {
   "codemirror_mode": {
    "name": "ipython",
    "version": 3
   },
   "file_extension": ".py",
   "mimetype": "text/x-python",
   "name": "python",
   "nbconvert_exporter": "python",
   "pygments_lexer": "ipython3",
   "version": "3.11.10"
  }
 },
 "nbformat": 4,
 "nbformat_minor": 5
}
